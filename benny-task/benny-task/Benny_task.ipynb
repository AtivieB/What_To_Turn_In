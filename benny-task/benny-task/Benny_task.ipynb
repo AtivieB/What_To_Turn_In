{
 "cells": [
  {
   "cell_type": "markdown",
   "id": "c8770907-cdb8-4c2e-b289-f6d5d4b0703c",
   "metadata": {},
   "source": [
    "## 11.1\n",
    "\n",
    "Create a file called zoo.py. In it, define a function called hours() that\n",
    " prints the string 'Open 9-5 daily'. Then, use the interactive interpreter to\n",
    " import the zoo module and call its hours() function."
   ]
  },
  {
   "cell_type": "code",
   "execution_count": 18,
   "id": "faa390be-a31e-42f2-aba2-d192cebaa248",
   "metadata": {},
   "outputs": [
    {
     "name": "stdout",
     "output_type": "stream",
     "text": [
      "Open 9-5 daily\n"
     ]
    }
   ],
   "source": [
    "import zoo\n",
    "\n",
    "zoo.hours()"
   ]
  },
  {
   "cell_type": "markdown",
   "id": "428378be-3eb8-477e-a555-e848e6fa764c",
   "metadata": {},
   "source": [
    "## 11.2\n",
    "\n",
    " In the interactive interpreter, import the zoo module as menagerie and\r\n",
    " call its hours() function"
   ]
  },
  {
   "cell_type": "code",
   "execution_count": 21,
   "id": "b5732159-a5f8-46cc-a335-5600f5069b33",
   "metadata": {},
   "outputs": [
    {
     "name": "stdout",
     "output_type": "stream",
     "text": [
      "Open 9-5 daily\n"
     ]
    }
   ],
   "source": [
    "import zoo as menagerie\n",
    "\n",
    "menagerie.hours()"
   ]
  },
  {
   "cell_type": "markdown",
   "id": "a965f92f-0f93-43e8-a901-36d57de683bb",
   "metadata": {},
   "source": [
    "## 16.8\n",
    "\n",
    "Install the Redis server and the Python redis library (pip install\r\n",
    " redis) on your computer. Create a Redis hash called test with the fields\r\n",
    " count (1) and name ('Fester Bestertester'). Print all the fields for test"
   ]
  },
  {
   "cell_type": "code",
   "execution_count": 26,
   "id": "96cb0918-f631-4f4e-9612-b622eb1732df",
   "metadata": {},
   "outputs": [
    {
     "name": "stdout",
     "output_type": "stream",
     "text": [
      "Collecting redis\n",
      "  Using cached redis-5.0.8-py3-none-any.whl.metadata (9.2 kB)\n",
      "Using cached redis-5.0.8-py3-none-any.whl (255 kB)\n",
      "Installing collected packages: redis\n",
      "Successfully installed redis-5.0.8\n",
      "Note: you may need to restart the kernel to use updated packages.\n"
     ]
    }
   ],
   "source": [
    "pip install redis"
   ]
  },
  {
   "cell_type": "code",
   "execution_count": 36,
   "id": "9de8b626-b27e-43a2-8429-5645145ffc93",
   "metadata": {},
   "outputs": [
    {
     "name": "stdout",
     "output_type": "stream",
     "text": [
      "{'count': '1', 'name': 'Fester Bestertester'}\n"
     ]
    }
   ],
   "source": [
    "import redis\n",
    "\n",
    "# Connect to the Redis server (assuming it's running on localhost and default port 6379)\n",
    "r = redis.Redis(host='localhost', port=6379, decode_responses=True)\n",
    "\n",
    "# Create a Redis hash called 'test' with fields 'count' and 'name'\n",
    "r.hset(\"test\", \"count\", 1)\n",
    "r.hset(\"test\", \"name\", \"Fester Bestertester\")\n",
    "\n",
    "# Retrieve and print all the fields for the hash 'test'\n",
    "test_data = r.hgetall(\"test\")\n",
    "print(test_data)"
   ]
  },
  {
   "cell_type": "code",
   "execution_count": null,
   "id": "c291990b-d99b-400e-9f74-08de9db4f657",
   "metadata": {},
   "outputs": [],
   "source": []
  },
  {
   "cell_type": "code",
   "execution_count": null,
   "id": "ea64c0ba-8f3c-43c7-b60f-fbd0aac7675b",
   "metadata": {},
   "outputs": [],
   "source": []
  }
 ],
 "metadata": {
  "kernelspec": {
   "display_name": "Python 3 (ipykernel)",
   "language": "python",
   "name": "python3"
  },
  "language_info": {
   "codemirror_mode": {
    "name": "ipython",
    "version": 3
   },
   "file_extension": ".py",
   "mimetype": "text/x-python",
   "name": "python",
   "nbconvert_exporter": "python",
   "pygments_lexer": "ipython3",
   "version": "3.11.7"
  }
 },
 "nbformat": 4,
 "nbformat_minor": 5
}
